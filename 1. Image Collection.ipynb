{
 "cells": [
  {
   "cell_type": "markdown",
   "metadata": {},
   "source": [
    "# Import Dependencies"
   ]
  },
  {
   "cell_type": "code",
   "execution_count": 1,
   "metadata": {},
   "outputs": [
    {
     "name": "stdout",
     "output_type": "stream",
     "text": [
      "Collecting opencv-python\n",
      "  Downloading opencv_python-4.5.3.56-cp38-cp38-win_amd64.whl (34.9 MB)\n",
      "Collecting numpy>=1.17.3\n",
      "  Downloading numpy-1.21.1-cp38-cp38-win_amd64.whl (14.0 MB)\n",
      "Installing collected packages: numpy, opencv-python\n",
      "Successfully installed numpy-1.21.1 opencv-python-4.5.3.56\n"
     ]
    }
   ],
   "source": [
    "!pip install opencv-python"
   ]
  },
  {
   "cell_type": "code",
   "execution_count": 2,
   "metadata": {},
   "outputs": [],
   "source": [
    "# Import opencv\n",
    "import cv2 \n",
    "\n",
    "# Import uuid\n",
    "import uuid\n",
    "\n",
    "# Import Operating System\n",
    "import os\n",
    "\n",
    "# Import time\n",
    "import time"
   ]
  },
  {
   "cell_type": "markdown",
   "metadata": {},
   "source": [
    "# Define Images to Collect"
   ]
  },
  {
   "cell_type": "code",
   "execution_count": 3,
   "metadata": {},
   "outputs": [],
   "source": [
    "labels = ['thumbsup', 'thumbsdown', 'thankyou', 'livelong']\n",
    "number_imgs = 5"
   ]
  },
  {
   "cell_type": "markdown",
   "metadata": {},
   "source": [
    "# Setup Folders "
   ]
  },
  {
   "cell_type": "code",
   "execution_count": 4,
   "metadata": {},
   "outputs": [],
   "source": [
    "IMAGES_PATH = os.path.join('Tensorflow', 'workspace', 'images', 'collectedimages')"
   ]
  },
  {
   "cell_type": "code",
   "execution_count": 8,
   "metadata": {},
   "outputs": [
    {
     "name": "stdout",
     "output_type": "stream",
     "text": [
      "Tensorflow\\workspace\\images\\collectedimages\n"
     ]
    },
    {
     "data": {
      "text/plain": [
       "'nt'"
      ]
     },
     "execution_count": 8,
     "metadata": {},
     "output_type": "execute_result"
    }
   ],
   "source": [
    "print(IMAGES_PATH)\n",
    "os.name"
   ]
  },
  {
   "cell_type": "code",
   "execution_count": 11,
   "metadata": {},
   "outputs": [],
   "source": [
    "if not os.path.exists(IMAGES_PATH):\n",
    "    if os.name == 'posix':\n",
    "        !mkdir -p {IMAGES_PATH}\n",
    "    if os.name == 'nt':\n",
    "         !mkdir {IMAGES_PATH}\n",
    "for label in labels:\n",
    "    path = os.path.join(IMAGES_PATH, label)\n",
    "    if not os.path.exists(path):\n",
    "        !mkdir {path}"
   ]
  },
  {
   "cell_type": "markdown",
   "metadata": {},
   "source": [
    "# Capture Images"
   ]
  },
  {
   "cell_type": "code",
   "execution_count": 12,
   "metadata": {},
   "outputs": [
    {
     "name": "stdout",
     "output_type": "stream",
     "text": [
      "Collecting images for thumbsup\n",
      "Collecting image 0\n",
      "Collecting image 1\n",
      "Collecting image 2\n",
      "Collecting image 3\n",
      "Collecting image 4\n",
      "Collecting images for thumbsdown\n",
      "Collecting image 0\n",
      "Collecting image 1\n",
      "Collecting image 2\n",
      "Collecting image 3\n",
      "Collecting image 4\n",
      "Collecting images for thankyou\n",
      "Collecting image 0\n",
      "Collecting image 1\n",
      "Collecting image 2\n",
      "Collecting image 3\n",
      "Collecting image 4\n",
      "Collecting images for livelong\n",
      "Collecting image 0\n",
      "Collecting image 1\n",
      "Collecting image 2\n",
      "Collecting image 3\n",
      "Collecting image 4\n"
     ]
    }
   ],
   "source": [
    "for label in labels:\n",
    "    cap = cv2.VideoCapture(0) #connect our webcamm\n",
    "    print('Collecting images for {}'.format(label))\n",
    "    time.sleep(5)\n",
    "    for imgnum in range(number_imgs):\n",
    "        print('Collecting image {}'.format(imgnum))\n",
    "        ret, frame = cap.read()\n",
    "        imgname = os.path.join(IMAGES_PATH,label,label+'.'+'{}.jpg'.format(str(uuid.uuid1())))\n",
    "        cv2.imwrite(imgname, frame)\n",
    "        cv2.imshow('frame', frame)\n",
    "        time.sleep(2)\n",
    "\n",
    "        if cv2.waitKey(1) & 0xFF == ord('q'):\n",
    "            break\n",
    "cap.release()\n",
    "cv2.destroyAllWindows()"
   ]
  },
  {
   "cell_type": "markdown",
   "metadata": {},
   "source": [
    "# Image Labelling"
   ]
  },
  {
   "cell_type": "code",
   "execution_count": 13,
   "metadata": {},
   "outputs": [
    {
     "name": "stdout",
     "output_type": "stream",
     "text": [
      "Collecting pyqt5\n",
      "  Using cached PyQt5-5.15.4-cp36.cp37.cp38.cp39-none-win_amd64.whl (6.8 MB)\n",
      "Collecting lxml\n",
      "  Using cached lxml-4.6.3-cp38-cp38-win_amd64.whl (3.5 MB)\n",
      "Collecting PyQt5-sip<13,>=12.8\n",
      "  Using cached PyQt5_sip-12.9.0-cp38-cp38-win_amd64.whl (63 kB)\n",
      "Collecting PyQt5-Qt5>=5.15\n",
      "  Using cached PyQt5_Qt5-5.15.2-py3-none-win_amd64.whl (50.1 MB)\n",
      "Installing collected packages: PyQt5-sip, PyQt5-Qt5, pyqt5, lxml\n",
      "Successfully installed PyQt5-Qt5-5.15.2 PyQt5-sip-12.9.0 lxml-4.6.3 pyqt5-5.15.4\n"
     ]
    }
   ],
   "source": [
    "!pip install --upgrade pyqt5 lxml"
   ]
  },
  {
   "cell_type": "code",
   "execution_count": 14,
   "metadata": {
    "scrolled": true
   },
   "outputs": [
    {
     "name": "stdout",
     "output_type": "stream",
     "text": [
      "Package             Version\n",
      "------------------- --------\n",
      "argon2-cffi         20.1.0\n",
      "async-generator     1.10\n",
      "attrs               21.2.0\n",
      "backcall            0.2.0\n",
      "bleach              4.0.0\n",
      "cffi                1.14.6\n",
      "colorama            0.4.4\n",
      "debugpy             1.4.1\n",
      "decorator           5.0.9\n",
      "defusedxml          0.7.1\n",
      "entrypoints         0.3\n",
      "ipykernel           6.0.3\n",
      "ipython             7.26.0\n",
      "ipython-genutils    0.2.0\n",
      "ipywidgets          7.6.3\n",
      "jedi                0.18.0\n",
      "Jinja2              3.0.1\n",
      "jsonschema          3.2.0\n",
      "jupyter             1.0.0\n",
      "jupyter-client      6.1.12\n",
      "jupyter-console     6.4.0\n",
      "jupyter-core        4.7.1\n",
      "jupyterlab-pygments 0.1.2\n",
      "jupyterlab-widgets  1.0.0\n",
      "lxml                4.6.3\n",
      "MarkupSafe          2.0.1\n",
      "matplotlib-inline   0.1.2\n",
      "mistune             0.8.4\n",
      "nbclient            0.5.3\n",
      "nbconvert           6.1.0\n",
      "nbformat            5.1.3\n",
      "nest-asyncio        1.5.1\n",
      "notebook            6.4.0\n",
      "numpy               1.21.1\n",
      "opencv-python       4.5.3.56\n",
      "packaging           21.0\n",
      "pandocfilters       1.4.3\n",
      "parso               0.8.2\n",
      "pickleshare         0.7.5\n",
      "pip                 21.2.2\n",
      "prometheus-client   0.11.0\n",
      "prompt-toolkit      3.0.19\n",
      "pycparser           2.20\n",
      "Pygments            2.9.0\n",
      "pyparsing           2.4.7\n",
      "PyQt5               5.15.4\n",
      "PyQt5-Qt5           5.15.2\n",
      "PyQt5-sip           12.9.0\n",
      "pyrsistent          0.18.0\n",
      "python-dateutil     2.8.2\n",
      "pywin32             301\n",
      "pywinpty            1.1.3\n",
      "pyzmq               22.2.1\n",
      "qtconsole           5.1.1\n",
      "QtPy                1.9.0\n",
      "Send2Trash          1.7.1\n",
      "setuptools          41.2.0\n",
      "six                 1.16.0\n",
      "terminado           0.10.1\n",
      "testpath            0.5.0\n",
      "tornado             6.1\n",
      "traitlets           5.0.5\n",
      "wcwidth             0.2.5\n",
      "webencodings        0.5.1\n",
      "widgetsnbextension  3.5.1\n"
     ]
    }
   ],
   "source": [
    "!pip list"
   ]
  },
  {
   "cell_type": "code",
   "execution_count": 15,
   "metadata": {},
   "outputs": [],
   "source": [
    "LABELIMG_PATH = os.path.join('Tensorflow', 'labelimg')"
   ]
  },
  {
   "cell_type": "code",
   "execution_count": 16,
   "metadata": {},
   "outputs": [
    {
     "name": "stderr",
     "output_type": "stream",
     "text": [
      "Cloning into 'Tensorflow\\labelimg'...\n"
     ]
    }
   ],
   "source": [
    "if not os.path.exists(LABELIMG_PATH):\n",
    "    !mkdir {LABELIMG_PATH}\n",
    "    !git clone https://github.com/tzutalin/labelImg {LABELIMG_PATH}"
   ]
  },
  {
   "cell_type": "code",
   "execution_count": 17,
   "metadata": {},
   "outputs": [],
   "source": [
    "if os.name == 'posix':\n",
    "    !make qt5py3\n",
    "if os.name =='nt':\n",
    "    !cd {LABELIMG_PATH} && pyrcc5 -o libs/resources.py resources.qrc"
   ]
  },
  {
   "cell_type": "code",
   "execution_count": 20,
   "metadata": {},
   "outputs": [
    {
     "name": "stdout",
     "output_type": "stream",
     "text": [
      "Cancel creation.\n",
      "Image:D:\\CODE\\tfod\\TFODCourse\\Tensorflow\\workspace\\images\\collectedimages\\livelong\\livelong.bb0ff9b6-f5f1-11eb-bdb5-edc349ae9db7.jpg -> Annotation:D:/CODE/tfod/TFODCourse/Tensorflow/workspace/images/collectedimages/livelong/livelong.bb0ff9b6-f5f1-11eb-bdb5-edc349ae9db7.xml\n",
      "Image:D:\\CODE\\tfod\\TFODCourse\\Tensorflow\\workspace\\images\\collectedimages\\livelong\\livelong.bc44c015-f5f1-11eb-b401-edc349ae9db7.jpg -> Annotation:D:/CODE/tfod/TFODCourse/Tensorflow/workspace/images/collectedimages/livelong/livelong.bc44c015-f5f1-11eb-b401-edc349ae9db7.xml\n",
      "Image:D:\\CODE\\tfod\\TFODCourse\\Tensorflow\\workspace\\images\\collectedimages\\livelong\\livelong.bd7c1dae-f5f1-11eb-8988-edc349ae9db7.jpg -> Annotation:D:/CODE/tfod/TFODCourse/Tensorflow/workspace/images/collectedimages/livelong/livelong.bd7c1dae-f5f1-11eb-8988-edc349ae9db7.xml\n",
      "Image:D:\\CODE\\tfod\\TFODCourse\\Tensorflow\\workspace\\images\\collectedimages\\livelong\\livelong.beb1f164-f5f1-11eb-b9c9-edc349ae9db7.jpg -> Annotation:D:/CODE/tfod/TFODCourse/Tensorflow/workspace/images/collectedimages/livelong/livelong.beb1f164-f5f1-11eb-b9c9-edc349ae9db7.xml\n",
      "Image:D:\\CODE\\tfod\\TFODCourse\\Tensorflow\\workspace\\images\\collectedimages\\livelong\\livelong.bfe76d1d-f5f1-11eb-b234-edc349ae9db7.jpg -> Annotation:D:/CODE/tfod/TFODCourse/Tensorflow/workspace/images/collectedimages/livelong/livelong.bfe76d1d-f5f1-11eb-b234-edc349ae9db7.xml\n",
      "Image:D:\\CODE\\tfod\\TFODCourse\\Tensorflow\\workspace\\images\\collectedimages\\thankyou\\thankyou.b0cb3e95-f5f1-11eb-9382-edc349ae9db7.jpg -> Annotation:D:/CODE/tfod/TFODCourse/Tensorflow/workspace/images/collectedimages/thankyou/thankyou.b0cb3e95-f5f1-11eb-9382-edc349ae9db7.xml\n",
      "Image:D:\\CODE\\tfod\\TFODCourse\\Tensorflow\\workspace\\images\\collectedimages\\thankyou\\thankyou.b59f8d6e-f5f1-11eb-8256-edc349ae9db7.jpg -> Annotation:D:/CODE/tfod/TFODCourse/Tensorflow/workspace/images/collectedimages/thankyou/thankyou.b59f8d6e-f5f1-11eb-8256-edc349ae9db7.xml\n",
      "Image:D:\\CODE\\tfod\\TFODCourse\\Tensorflow\\workspace\\images\\collectedimages\\thankyou\\thankyou.b469b468-f5f1-11eb-99a4-edc349ae9db7.jpg -> Annotation:D:/CODE/tfod/TFODCourse/Tensorflow/workspace/images/collectedimages/thankyou/thankyou.b469b468-f5f1-11eb-99a4-edc349ae9db7.xml\n",
      "Image:D:\\CODE\\tfod\\TFODCourse\\Tensorflow\\workspace\\images\\collectedimages\\thankyou\\thankyou.b2003f80-f5f1-11eb-b599-edc349ae9db7.jpg -> Annotation:D:/CODE/tfod/TFODCourse/Tensorflow/workspace/images/collectedimages/thankyou/thankyou.b2003f80-f5f1-11eb-b599-edc349ae9db7.xml\n",
      "Image:D:\\CODE\\tfod\\TFODCourse\\Tensorflow\\workspace\\images\\collectedimages\\thankyou\\thankyou.b3346f93-f5f1-11eb-b726-edc349ae9db7.jpg -> Annotation:D:/CODE/tfod/TFODCourse/Tensorflow/workspace/images/collectedimages/thankyou/thankyou.b3346f93-f5f1-11eb-b726-edc349ae9db7.xml\n",
      "Image:D:\\CODE\\tfod\\TFODCourse\\Tensorflow\\workspace\\images\\collectedimages\\thumbsdown\\thumbsdown.a7be6b6b-f5f1-11eb-8a19-edc349ae9db7.jpg -> Annotation:D:/CODE/tfod/TFODCourse/Tensorflow/workspace/images/collectedimages/thumbsdown/thumbsdown.a7be6b6b-f5f1-11eb-8a19-edc349ae9db7.xml\n",
      "Image:D:\\CODE\\tfod\\TFODCourse\\Tensorflow\\workspace\\images\\collectedimages\\thumbsdown\\thumbsdown.a7be6b6b-f5f1-11eb-8a19-edc349ae9db7.jpg -> Annotation:D:\\CODE\\tfod\\TFODCourse\\Tensorflow\\workspace\\images\\collectedimages\\thumbsdown\\thumbsdown.a7be6b6b-f5f1-11eb-8a19-edc349ae9db7.xml\n",
      "Image:D:\\CODE\\tfod\\TFODCourse\\Tensorflow\\workspace\\images\\collectedimages\\thumbsdown\\thumbsdown.a8f33265-f5f1-11eb-97de-edc349ae9db7.jpg -> Annotation:D:/CODE/tfod/TFODCourse/Tensorflow/workspace/images/collectedimages/thumbsdown/thumbsdown.a8f33265-f5f1-11eb-97de-edc349ae9db7.xml\n",
      "Image:D:\\CODE\\tfod\\TFODCourse\\Tensorflow\\workspace\\images\\collectedimages\\thumbsdown\\thumbsdown.a68ac33e-f5f1-11eb-acb8-edc349ae9db7.jpg -> Annotation:D:/CODE/tfod/TFODCourse/Tensorflow/workspace/images/collectedimages/thumbsdown/thumbsdown.a68ac33e-f5f1-11eb-acb8-edc349ae9db7.xml\n",
      "Image:D:\\CODE\\tfod\\TFODCourse\\Tensorflow\\workspace\\images\\collectedimages\\thumbsdown\\thumbsdown.aa294e72-f5f1-11eb-8ee9-edc349ae9db7.jpg -> Annotation:D:/CODE/tfod/TFODCourse/Tensorflow/workspace/images/collectedimages/thumbsdown/thumbsdown.aa294e72-f5f1-11eb-8ee9-edc349ae9db7.xml\n",
      "Image:D:\\CODE\\tfod\\TFODCourse\\Tensorflow\\workspace\\images\\collectedimages\\thumbsdown\\thumbsdown.ab5e9a6c-f5f1-11eb-9d90-edc349ae9db7.jpg -> Annotation:D:/CODE/tfod/TFODCourse/Tensorflow/workspace/images/collectedimages/thumbsdown/thumbsdown.ab5e9a6c-f5f1-11eb-9d90-edc349ae9db7.xml\n",
      "Image:D:\\CODE\\tfod\\TFODCourse\\Tensorflow\\workspace\\images\\collectedimages\\thumbsup\\thumbsup.9c41b7db-f5f1-11eb-a9b4-edc349ae9db7.jpg -> Annotation:D:/CODE/tfod/TFODCourse/Tensorflow/workspace/images/collectedimages/thumbsup/thumbsup.9c41b7db-f5f1-11eb-a9b4-edc349ae9db7.xml\n",
      "Image:D:\\CODE\\tfod\\TFODCourse\\Tensorflow\\workspace\\images\\collectedimages\\thumbsup\\thumbsup.9d79c9ec-f5f1-11eb-ad53-edc349ae9db7.jpg -> Annotation:D:/CODE/tfod/TFODCourse/Tensorflow/workspace/images/collectedimages/thumbsup/thumbsup.9d79c9ec-f5f1-11eb-ad53-edc349ae9db7.xml\n",
      "Image:D:\\CODE\\tfod\\TFODCourse\\Tensorflow\\workspace\\images\\collectedimages\\thumbsup\\thumbsup.9eb0b087-f5f1-11eb-b86d-edc349ae9db7.jpg -> Annotation:D:/CODE/tfod/TFODCourse/Tensorflow/workspace/images/collectedimages/thumbsup/thumbsup.9eb0b087-f5f1-11eb-b86d-edc349ae9db7.xml\n",
      "Image:D:\\CODE\\tfod\\TFODCourse\\Tensorflow\\workspace\\images\\collectedimages\\thumbsup\\thumbsup.9fe40aec-f5f1-11eb-aa49-edc349ae9db7.jpg -> Annotation:D:/CODE/tfod/TFODCourse/Tensorflow/workspace/images/collectedimages/thumbsup/thumbsup.9fe40aec-f5f1-11eb-aa49-edc349ae9db7.xml\n",
      "Image:D:\\CODE\\tfod\\TFODCourse\\Tensorflow\\workspace\\images\\collectedimages\\thumbsup\\thumbsup.a11a456a-f5f1-11eb-a7b8-edc349ae9db7.jpg -> Annotation:D:/CODE/tfod/TFODCourse/Tensorflow/workspace/images/collectedimages/thumbsup/thumbsup.a11a456a-f5f1-11eb-a7b8-edc349ae9db7.xml\n"
     ]
    }
   ],
   "source": [
    "!cd {LABELIMG_PATH} && python labelImg.py"
   ]
  },
  {
   "cell_type": "markdown",
   "metadata": {},
   "source": [
    "# Move them to another notebook"
   ]
  },
  {
   "cell_type": "markdown",
   "metadata": {},
   "source": [
    "# Compress them for Colab Training"
   ]
  },
  {
   "cell_type": "code",
   "execution_count": 21,
   "metadata": {},
   "outputs": [],
   "source": [
    "TRAIN_PATH = os.path.join('Tensorflow', 'workspace', 'images', 'train')\n",
    "TEST_PATH = os.path.join('Tensorflow', 'workspace', 'images', 'test')\n",
    "ARCHIVE_PATH = os.path.join('Tensorflow', 'workspace', 'images', 'archive.tar.gz')"
   ]
  },
  {
   "cell_type": "code",
   "execution_count": 22,
   "metadata": {},
   "outputs": [],
   "source": [
    "!tar -czf {ARCHIVE_PATH} {TRAIN_PATH} {TEST_PATH}"
   ]
  },
  {
   "cell_type": "code",
   "execution_count": null,
   "metadata": {},
   "outputs": [],
   "source": []
  }
 ],
 "metadata": {
  "kernelspec": {
   "display_name": "tfod",
   "language": "python",
   "name": "tfod"
  },
  "language_info": {
   "codemirror_mode": {
    "name": "ipython",
    "version": 3
   },
   "file_extension": ".py",
   "mimetype": "text/x-python",
   "name": "python",
   "nbconvert_exporter": "python",
   "pygments_lexer": "ipython3",
   "version": "3.8.3"
  }
 },
 "nbformat": 4,
 "nbformat_minor": 2
}
